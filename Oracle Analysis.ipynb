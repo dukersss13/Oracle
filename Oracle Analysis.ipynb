{
 "cells": [
  {
   "cell_type": "code",
   "execution_count": 1,
   "id": "c530c075",
   "metadata": {},
   "outputs": [],
   "source": [
    "import os\n",
    "os.environ['TF_XLA_FLAGS'] = '--tf_xla_enable_xla_devices'\n",
    "\n",
    "import numpy as np\n",
    "import pandas as pd\n",
    "from time import time\n",
    "\n",
    "import tensorflow as tf\n",
    "import tensorflow.keras.backend as K\n",
    "\n",
    "from tensorflow.keras import Sequential, regularizers\n",
    "from tensorflow.keras.layers import Dense, Dropout, GRU, LSTM, BatchNormalization as BatchNorm\n",
    "from tensorflow.keras.optimizers import Adam\n",
    "\n",
    "from sklearn.preprocessing import MinMaxScaler\n",
    "from sklearn.metrics import mean_squared_error as mse\n",
    "\n",
    "from pmdarima.arima import auto_arima, ADFTest\n",
    "\n",
    "import matplotlib.pyplot as plt"
   ]
  },
  {
   "cell_type": "code",
   "execution_count": 2,
   "id": "34b9a6cc",
   "metadata": {},
   "outputs": [],
   "source": [
    "from nba_api.stats.endpoints import (playergamelog, leagueseasonmatchups, boxscoretraditionalv2,\n",
    "                                     commonteamroster, teamgamelogs, leaguedashptteamdefend,\n",
    "                                     teamestimatedmetrics)\n",
    "\n",
    "from nba_api.stats.static import teams, players\n",
    "from nba_api.stats.library.parameters import SeasonAll"
   ]
  },
  {
   "cell_type": "code",
   "execution_count": 3,
   "id": "6bb1b7ae",
   "metadata": {},
   "outputs": [],
   "source": [
    "def fetch_players_id(players_full_name: str) -> int:\n",
    "    \"\"\"\n",
    "    Get players ID given full name\n",
    "\n",
    "    :param: players_full_name: player's full name\n",
    "    :return: player's ID\n",
    "    \"\"\"\n",
    "    try:\n",
    "        players_id = players.find_players_by_full_name(players_full_name)[0][\"id\"]\n",
    "    except IndexError:\n",
    "        print(f\"WARNING: {players_full_name} does not have a player ID!\")\n",
    "        players_id = None\n",
    "\n",
    "    return players_id\n",
    "\n",
    "def fetch_players_game_logs_df(players_id: str, season: str) -> pd.DataFrame:\n",
    "    \"\"\"\n",
    "    Access the PlayerGameLog module to fetch the game logs df of given player\n",
    "\n",
    "    :param players_id: player ID\n",
    "    :return: the given player's game logs in df format\n",
    "    \"\"\"\n",
    "    players_game_log = playergamelog.PlayerGameLog(player_id=players_id, season=season,\n",
    "                                                   season_type_all_star=\"Regular Season\")\n",
    "    players_game_logs_df = players_game_log.get_data_frames()[0]\n",
    "    try:\n",
    "        players_game_logs_df =  players_game_logs_df.iloc[:num_games+1, :]\n",
    "    except:\n",
    "        players_game_logs_df = players_game_logs_df\n",
    "\n",
    "    return players_game_logs_df"
   ]
  },
  {
   "cell_type": "code",
   "execution_count": 4,
   "id": "42183a52",
   "metadata": {},
   "outputs": [],
   "source": [
    "metrics_21 = pd.read_csv(\"data/seasonal_data/2021/defensive_metrics_21.csv\", index_col=0)\n",
    "metrics_22 = pd.read_csv(\"data/seasonal_data/2022/defensive_metrics_22.csv\", index_col=0)\n",
    "metrics_23 = pd.read_csv(\"data/seasonal_data/2023/defensive_metrics_23.csv\", index_col=0)"
   ]
  },
  {
   "cell_type": "code",
   "execution_count": 5,
   "id": "0664595d",
   "metadata": {},
   "outputs": [],
   "source": [
    "def convert_to_float32(df: pd.DataFrame, cols: list=None):\n",
    "    \"\"\"\n",
    "    \"\"\"\n",
    "    df[cols] = df[cols].astype(np.float32)\n",
    "    \n",
    "    return df"
   ]
  },
  {
   "cell_type": "code",
   "execution_count": 6,
   "id": "5dae3981",
   "metadata": {},
   "outputs": [],
   "source": [
    "nba_teams = teams.get_teams()\n",
    "static_team_info = pd.DataFrame(nba_teams)\n",
    "all_teams_id = static_team_info[\"id\"].values"
   ]
  },
  {
   "cell_type": "code",
   "execution_count": 7,
   "id": "57426eba",
   "metadata": {},
   "outputs": [],
   "source": [
    "id_abb_lut = dict(zip(static_team_info[\"abbreviation\"], static_team_info[\"id\"]))"
   ]
  },
  {
   "cell_type": "code",
   "execution_count": 8,
   "id": "aed9cebd",
   "metadata": {},
   "outputs": [],
   "source": [
    "# atl = teamgamelogs.TeamGameLogs(team_id_nullable=1610612737, season_nullable=\"2022-23\").get_data_frames()[0]"
   ]
  },
  {
   "cell_type": "code",
   "execution_count": 9,
   "id": "738e7901",
   "metadata": {},
   "outputs": [],
   "source": [
    "# df = leaguedashptteamdefend.LeagueDashPtTeamDefend(\n",
    "#                                               defense_category=\"2 Pointers\",\n",
    "#                                               per_mode_simple=\"PerGame\",\n",
    "#                                               season=\"2020-21\",\n",
    "#                                               season_type_all_star=\"Regular Season\",\n",
    "#                                               season_segment_nullable=\"Post All-Star\"\n",
    "#                                               ).get_data_frames()[0]"
   ]
  },
  {
   "cell_type": "code",
   "execution_count": 10,
   "id": "58dca062",
   "metadata": {},
   "outputs": [],
   "source": [
    "# df.to_csv(\"data/seasonal_data/2021/post_asb_2pt_21.csv\")"
   ]
  },
  {
   "cell_type": "code",
   "execution_count": 11,
   "id": "5ae71940",
   "metadata": {},
   "outputs": [],
   "source": [
    "def get_opp_id(matchup: str):\n",
    "    matchup_split = matchup.split(\" \")\n",
    "    opp_abb = matchup_split[2]\n",
    "    team_id = static_team_info[static_team_info[\"abbreviation\"]==opp_abb][\"id\"].values[0]\n",
    "    \n",
    "    return team_id\n",
    "\n",
    "def add_rest_days(players_game_logs_df: pd.DataFrame) -> pd.DataFrame:\n",
    "    \"\"\"\n",
    "    Add rest days column\n",
    "\n",
    "    :param players_game_logs_df: player's game logs df\n",
    "    :return: player's game logs df w/ rest days\n",
    "    \"\"\"\n",
    "    players_game_logs_df[\"GAME_DATE\"] = players_game_logs_df[\"GAME_DATE\"].apply(lambda x: x.split(\" \"))\n",
    "    players_game_logs_df[\"GAME_DATE\"] = players_game_logs_df[\"GAME_DATE\"].apply(convert_to_timestamp)\n",
    "    players_game_logs_df = players_game_logs_df.sort_values(by=[\"GAME_DATE\"], ascending=False)\n",
    "    players_game_logs_df[\"REST_DAYS\"] = players_game_logs_df[\"GAME_DATE\"].diff(periods=-1)\n",
    "    players_game_logs_df = players_game_logs_df.iloc[:-1, :]\n",
    "    players_game_logs_df.loc[:, \"REST_DAYS\"] = players_game_logs_df[\"REST_DAYS\"].dt.days\n",
    "\n",
    "    return players_game_logs_df\n",
    "\n",
    "def add_home_away_columns(players_game_logs_df: pd.DataFrame) -> pd.DataFrame:\n",
    "    \"\"\"\n",
    "    Add one_hot encoding home or away bool columns\n",
    "\n",
    "    :param players_game_logs_df: player's game logs df\n",
    "    :return: player's game logs df w/ home & away columns\n",
    "    \"\"\"\n",
    "    players_game_logs_df.loc[:, (\"HOME\", \"AWAY\")] = tf.one_hot(players_game_logs_df[\"MATCHUP\"].\\\n",
    "                                                    apply(detect_home_or_away_games), 2)\n",
    "\n",
    "    return players_game_logs_df\n",
    "\n",
    "def detect_home_or_away_games(game: str):\n",
    "    \"\"\"\n",
    "    Detect if a game is on home court or away\n",
    "    \"\"\"\n",
    "    return 1 if \"@\" in game else 0\n",
    "\n",
    "def convert_to_timestamp(date_string: str) -> pd.Timestamp:\n",
    "    \"\"\"\n",
    "    Convert a date in string format to pd.Timestamp format\n",
    "    \"\"\"\n",
    "    months_dict = init_months_dict()\n",
    "    date = pd.Timestamp(f\"{date_string[2]}-{months_dict[date_string[0]]}-{date_string[1][:-1]}\")\n",
    "\n",
    "    return date\n",
    "\n",
    "def init_months_dict() -> dict:\n",
    "    \"\"\"\n",
    "    Create months dictionary\n",
    "    \"\"\"\n",
    "    months = [\"JAN\", \"FEB\", \"MAR\", \"APR\", \"MAY\", \"JUN\", \"JUL\", \"AUG\", \"SEP\", \"OCT\", \"NOV\", \"DEC\"]\n",
    "    months_dict = dict(zip(months, range(1, 13)))\n",
    "\n",
    "    return months_dict"
   ]
  },
  {
   "cell_type": "code",
   "execution_count": 12,
   "id": "d25e582b",
   "metadata": {},
   "outputs": [],
   "source": [
    "def merge_defensive_stats(season: str, game_log: pd.DataFrame,\n",
    "                          defensive_stats: list, metrics: pd.DataFrame=None) -> pd.DataFrame:\n",
    "    \"\"\"\n",
    "    \"\"\"\n",
    "    all_star_date = f\"20{season}-02-14\"\n",
    "    \n",
    "    pre_asb = game_log[game_log[\"GAME_DATE\"] < all_star_date].merge(defensive_stats[0], on=\"TEAM_ID\")\n",
    "    \n",
    "    post_asb = game_log[game_log[\"GAME_DATE\"] >= all_star_date].merge(defensive_stats[1], on=\"TEAM_ID\")\n",
    "    \n",
    "    complete_log = pd.concat([pre_asb, post_asb])\n",
    "    \n",
    "    if metrics is not None:\n",
    "        complete_log = complete_log.merge(metrics, on=\"TEAM_ID\")\n",
    "    \n",
    "    return complete_log"
   ]
  },
  {
   "cell_type": "markdown",
   "id": "2f161f43",
   "metadata": {},
   "source": [
    "### 2023 Season"
   ]
  },
  {
   "cell_type": "code",
   "execution_count": 13,
   "id": "5df09689",
   "metadata": {},
   "outputs": [
    {
     "name": "stderr",
     "output_type": "stream",
     "text": [
      "2023-05-17 08:40:42.761908: I tensorflow/core/platform/cpu_feature_guard.cc:142] This TensorFlow binary is optimized with oneAPI Deep Neural Network Library (oneDNN) to use the following CPU instructions in performance-critical operations:  AVX2 FMA\n",
      "To enable them in other operations, rebuild TensorFlow with the appropriate compiler flags.\n",
      "2023-05-17 08:40:42.766618: I tensorflow/compiler/xla/service/service.cc:168] XLA service 0x7f8ad01f8540 initialized for platform Host (this does not guarantee that XLA will be used). Devices:\n",
      "2023-05-17 08:40:42.766631: I tensorflow/compiler/xla/service/service.cc:176]   StreamExecutor device (0): Host, Default Version\n"
     ]
    }
   ],
   "source": [
    "name = \"Ja Morant\"\n",
    "player = fetch_players_id(name)\n",
    "log_23 = fetch_players_game_logs_df(player, \"2022-23\")\n",
    "log_23[\"TEAM_ID\"] = log_23[\"MATCHUP\"].apply(get_opp_id)\n",
    "log_23 = add_rest_days(add_home_away_columns(log_23))\n",
    "\n",
    "pre_teams_d_23 = pd.read_csv(\"data/seasonal_data/2023/defense_pre_ASB_23.csv\", index_col=0)\n",
    "post_teams_d_23 = pd.read_csv(\"data/seasonal_data/2023/defense_post_ASB_23.csv\", index_col=0)\n",
    "\n",
    "pre_teams_3pt_23 = pd.read_csv(\"data/seasonal_data/2023/pre_asb_3pt_23.csv\", index_col=0)\n",
    "post_teams_3pt_23 = pd.read_csv(\"data/seasonal_data/2023/post_asb_3pt_23.csv\", index_col=0)\n",
    "\n",
    "pre_teams_2pt_23 = pd.read_csv(\"data/seasonal_data/2023/pre_asb_2pt_23.csv\", index_col=0)\n",
    "post_teams_2pt_23 = pd.read_csv(\"data/seasonal_data/2023/post_asb_2pt_23.csv\", index_col=0)\n",
    "\n",
    "player_23 = merge_defensive_stats(season=\"23\", game_log=log_23,\n",
    "                                  defensive_stats=[pre_teams_d_23, post_teams_d_23],\n",
    "                                  metrics=metrics_23)\n",
    "\n",
    "player_23 = merge_defensive_stats(season=\"23\", game_log=player_23,\n",
    "                                  defensive_stats=[pre_teams_3pt_23, post_teams_3pt_23])\n",
    "\n",
    "player_23 = merge_defensive_stats(season=\"23\", game_log=player_23,\n",
    "                                  defensive_stats=[pre_teams_2pt_23, post_teams_2pt_23])"
   ]
  },
  {
   "cell_type": "markdown",
   "id": "95316969",
   "metadata": {},
   "source": [
    "### 2022 Season"
   ]
  },
  {
   "cell_type": "code",
   "execution_count": 14,
   "id": "ec53b7f4",
   "metadata": {},
   "outputs": [],
   "source": [
    "log_22 = fetch_players_game_logs_df(player, \"2021-22\")\n",
    "log_22[\"TEAM_ID\"] = log_22[\"MATCHUP\"].apply(get_opp_id)\n",
    "log_22 = add_rest_days(add_home_away_columns(log_22))\n",
    "all_star_22 = \"2022-02-14\"\n",
    "\n",
    "pre_teams_d_22 = pd.read_csv(\"data/seasonal_data/2022/defense_pre_ASB_22.csv\", index_col=0)\n",
    "post_teams_d_22 = pd.read_csv(\"data/seasonal_data/2022/defense_post_ASB_22.csv\", index_col=0)\n",
    "\n",
    "pre_teams_3pt_22 = pd.read_csv(\"data/seasonal_data/2022/pre_asb_3pt_22.csv\", index_col=0)\n",
    "post_teams_3pt_22 = pd.read_csv(\"data/seasonal_data/2022/post_asb_3pt_22.csv\", index_col=0)\n",
    "\n",
    "pre_teams_2pt_22 = pd.read_csv(\"data/seasonal_data/2022/pre_asb_2pt_22.csv\", index_col=0)\n",
    "post_teams_2pt_22 = pd.read_csv(\"data/seasonal_data/2022/post_asb_2pt_22.csv\", index_col=0)\n",
    "\n",
    "player_22 = merge_defensive_stats(season=\"22\", game_log=log_22,\n",
    "                                  defensive_stats=[pre_teams_d_22, post_teams_d_22],\n",
    "                                  metrics=metrics_22)\n",
    "\n",
    "player_22 = merge_defensive_stats(season=\"22\", game_log=player_22,\n",
    "                                  defensive_stats=[pre_teams_3pt_22, post_teams_3pt_22])\n",
    "\n",
    "player_22 = merge_defensive_stats(season=\"22\", game_log=player_22,\n",
    "                                  defensive_stats=[pre_teams_2pt_22, post_teams_2pt_22])"
   ]
  },
  {
   "cell_type": "markdown",
   "id": "21e71874",
   "metadata": {},
   "source": [
    "### 2021 Season"
   ]
  },
  {
   "cell_type": "code",
   "execution_count": 15,
   "id": "91cd1346",
   "metadata": {},
   "outputs": [],
   "source": [
    "log_21 = fetch_players_game_logs_df(player, \"2020-21\")\n",
    "log_21[\"TEAM_ID\"] = log_21[\"MATCHUP\"].apply(get_opp_id)\n",
    "log_21 = add_rest_days(add_home_away_columns(log_21))\n",
    "all_star_21 = \"2021-02-14\"\n",
    "\n",
    "pre_teams_d_21 = pd.read_csv(\"data/seasonal_data/2021/defense_pre_ASB_21.csv\", index_col=0)\n",
    "post_teams_d_21 = pd.read_csv(\"data/seasonal_data/2021/defense_post_ASB_21.csv\", index_col=0)\n",
    "\n",
    "pre_teams_3pt_21 = pd.read_csv(\"data/seasonal_data/2021/pre_asb_3pt_21.csv\", index_col=0)\n",
    "post_teams_3pt_21 = pd.read_csv(\"data/seasonal_data/2021/post_asb_3pt_21.csv\", index_col=0)\n",
    "\n",
    "pre_teams_2pt_21 = pd.read_csv(\"data/seasonal_data/2021/pre_asb_2pt_21.csv\", index_col=0)\n",
    "post_teams_2pt_21 = pd.read_csv(\"data/seasonal_data/2021/post_asb_2pt_21.csv\", index_col=0)\n",
    "\n",
    "player_21 = merge_defensive_stats(season=\"21\", game_log=log_21,\n",
    "                                  defensive_stats=[pre_teams_d_21, post_teams_d_21],\n",
    "                                  metrics=metrics_21)\n",
    "\n",
    "player_21 = merge_defensive_stats(season=\"21\", game_log=player_21,\n",
    "                                  defensive_stats=[pre_teams_3pt_21, post_teams_3pt_21])\n",
    "\n",
    "player_21 = merge_defensive_stats(season=\"21\", game_log=player_21,\n",
    "                                  defensive_stats=[pre_teams_2pt_21, post_teams_2pt_21])"
   ]
  },
  {
   "cell_type": "code",
   "execution_count": 16,
   "id": "f2279e13",
   "metadata": {},
   "outputs": [
    {
     "data": {
      "text/plain": [
       "Index(['SEASON_ID', 'Player_ID', 'Game_ID', 'GAME_DATE', 'MATCHUP', 'WL',\n",
       "       'MIN', 'FGM', 'FGA', 'FG_PCT', 'FG3M_x', 'FG3A_x', 'FG3_PCT_x', 'FTM',\n",
       "       'FTA', 'FT_PCT', 'OREB', 'DREB', 'REB', 'AST', 'STL', 'BLK', 'TOV',\n",
       "       'PF', 'PTS', 'PLUS_MINUS', 'VIDEO_AVAILABLE', 'TEAM_ID', 'HOME', 'AWAY',\n",
       "       'REST_DAYS', 'D_FGM', 'D_FGA', 'D_FG_PCT', 'NORMAL_FG_PCT',\n",
       "       'PCT_PLUSMINUS', 'E_PACE', 'E_DEF_RATING', 'FG3M_y', 'FG3A_y',\n",
       "       'FG3_PCT_y', 'NS_FG3_PCT', 'PLUSMINUS_x', 'FG2M', 'FG2A', 'FG2_PCT',\n",
       "       'NS_FG2_PCT', 'PLUSMINUS_y', 'FREQ'],\n",
       "      dtype='object')"
      ]
     },
     "execution_count": 16,
     "metadata": {},
     "output_type": "execute_result"
    }
   ],
   "source": [
    "complete_log = pd.concat([player_21, player_22, player_23]).sort_values(by=[\"GAME_DATE\"], ascending=False)\n",
    "complete_log.columns"
   ]
  },
  {
   "cell_type": "code",
   "execution_count": 17,
   "id": "78538fb6",
   "metadata": {},
   "outputs": [],
   "source": [
    "predictors = [\"MIN\", \"FGA\", \"FG3A_x\", \"FTA\", \"HOME\", \"AWAY\", \"REST_DAYS\",\n",
    "              \"D_FGM\", \"D_FGA\", \"D_FG_PCT\", \"PCT_PLUSMINUS\",\n",
    "              \"FG3M_y\", \"FG3A_y\", \"FG3_PCT_y\", \"NS_FG3_PCT\", \"PLUSMINUS_x\",\n",
    "              \"FG2M\", \"FG2A\", \"FG2_PCT\", \"NS_FG2_PCT\", \"PLUSMINUS_y\",\n",
    "              \"E_PACE\", \"E_DEF_RATING\"]\n",
    "\n",
    "label1 = [\"PTS\"]"
   ]
  },
  {
   "cell_type": "code",
   "execution_count": 18,
   "id": "cff353d2",
   "metadata": {},
   "outputs": [],
   "source": [
    "game_to_predict = 10\n",
    "\n",
    "X, y = complete_log[predictors].astype(np.float32), complete_log[label1].astype(np.float32)\n",
    "xtrain, ytrain = X.iloc[game_to_predict+1:, :].values, y.iloc[game_to_predict+1:, :].values\n",
    "xtest, ytest = X.iloc[:game_to_predict, :].values, y.iloc[:game_to_predict, :].values"
   ]
  },
  {
   "cell_type": "code",
   "execution_count": 19,
   "id": "f3754147",
   "metadata": {},
   "outputs": [],
   "source": [
    "x_scaler = MinMaxScaler()\n",
    "x_scaler.fit(xtrain)\n",
    "xtrain_scaled = x_scaler.transform(xtrain)\n",
    "\n",
    "y_scaler = MinMaxScaler()\n",
    "y_scaler.fit(ytrain)\n",
    "ytrain_scaled = y_scaler.transform(ytrain)"
   ]
  },
  {
   "cell_type": "code",
   "execution_count": 20,
   "id": "b8d07630",
   "metadata": {},
   "outputs": [],
   "source": [
    "model = Sequential()\n",
    "model.add(Dense(200, activation=\"relu\", input_shape=(len(predictors), )))\n",
    "model.add(Dense(200, activation=\"relu\", batch_size=24, kernel_regularizer=regularizers.l1(1e-3)))\n",
    "model.add(Dropout(0.2)) \n",
    "model.add(Dense(200, activation=\"relu\", batch_size=24, kernel_regularizer=regularizers.l2(1e-3)))\n",
    "model.add(Dropout(0.2))\n",
    "model.add(Dense(1, activation=\"relu\"))\n",
    "\n",
    "model.compile(loss=tf.keras.losses.MeanSquaredError(),\n",
    "              optimizer=Adam(learning_rate=4e-4),\n",
    "              metrics=\"mse\")"
   ]
  },
  {
   "cell_type": "code",
   "execution_count": 21,
   "id": "ddfd89b3",
   "metadata": {},
   "outputs": [
    {
     "name": "stderr",
     "output_type": "stream",
     "text": [
      "2023-05-17 08:40:44.466656: I tensorflow/compiler/mlir/mlir_graph_optimization_pass.cc:116] None of the MLIR optimization passes are enabled (registered 2)\n"
     ]
    },
    {
     "name": "stdout",
     "output_type": "stream",
     "text": [
      "Training time: 3.34s\n"
     ]
    }
   ],
   "source": [
    "start = time()\n",
    "callback = tf.keras.callbacks.EarlyStopping(monitor='loss', min_delta=1e-6, patience=15)\n",
    "\n",
    "model.fit(xtrain, ytrain, batch_size=24, epochs=500, callbacks=[callback],\n",
    "          verbose=0, validation_split=0.15, )\n",
    "\n",
    "end = time()\n",
    "print(f\"Training time: {round(end - start, 2)}s\")"
   ]
  },
  {
   "cell_type": "code",
   "execution_count": 22,
   "id": "7fb57d3b",
   "metadata": {},
   "outputs": [
    {
     "name": "stdout",
     "output_type": "stream",
     "text": [
      "Forecasts: [10. 19. 16. 13. 37. 26. 11. 15. 29. 19.]\n",
      "\n",
      "Actual: [12. 23. 17. 10. 36. 27. 18. 17. 27. 20.]\n"
     ]
    }
   ],
   "source": [
    "# xtest_scaled = x_scaler.transform(xtest)\n",
    "# forecasts = y_scaler.inverse_transform(model.predict(xtest_scaled).reshape(-1, 1))\n",
    "\n",
    "forecasts = model.predict(xtest).reshape(-1, )\n",
    "\n",
    "print(f\"Forecasts: {np.round(forecasts)}\")\n",
    "print()\n",
    "print(f\"Actual: {ytest.reshape(-1, )}\")"
   ]
  },
  {
   "cell_type": "code",
   "execution_count": 23,
   "id": "77d6eaf6",
   "metadata": {},
   "outputs": [
    {
     "data": {
      "image/png": "[encoded data removed]",
      "text/plain": [
       "<Figure size 648x360 with 1 Axes>"
      ]
     },
     "metadata": {
      "needs_background": "light"
     },
     "output_type": "display_data"
    }
   ],
   "source": [
    "rmse = np.sqrt(mse(forecasts, ytest.reshape(-1, )))\n",
    "\n",
    "plt.figure(figsize=(9, 5))\n",
    "plt.plot(np.arange(len(ytest)), forecasts, color=\"red\", marker=\"o\", label=\"Forecast\")\n",
    "plt.plot(np.arange(len(ytest)), ytest.reshape(-1, ), color=\"blue\", marker=\"x\", label=\"Actual\")\n",
    "plt.xlabel(\"Game\", fontsize=15)\n",
    "plt.ylabel(label1[0], fontsize=15)\n",
    "plt.title(f\"Name: {name}. RMSE: {round(rmse, 2)}\")\n",
    "plt.grid()\n",
    "plt.legend()\n",
    "plt.show()"
   ]
  },
  {
   "cell_type": "markdown",
   "id": "341a32b7",
   "metadata": {},
   "source": [
    "### GRU Test"
   ]
  },
  {
   "cell_type": "code",
   "execution_count": 24,
   "id": "ea1cc56c",
   "metadata": {},
   "outputs": [],
   "source": [
    "xtrain_ = xtrain.reshape(xtrain.shape[0], 1, xtrain.shape[1])"
   ]
  },
  {
   "cell_type": "code",
   "execution_count": 25,
   "id": "63f5ffbb",
   "metadata": {},
   "outputs": [],
   "source": [
    "gru = Sequential()\n",
    "\n",
    "gru.add(GRU(200, return_sequences=True, unroll=True, input_shape=(1, xtrain_.shape[2])))\n",
    "gru.add(Dropout(0.2))\n",
    "\n",
    "gru.add(GRU(200, return_sequences=True, batch_size=24, recurrent_dropout=0.2,\n",
    "            unroll=True, kernel_regularizer=regularizers.l1(1e-3)))\n",
    "gru.add(Dropout(0.2))\n",
    "\n",
    "gru.add(GRU(200, return_sequences=True, batch_size=24, recurrent_dropout=0.13,\n",
    "            unroll=True, kernel_regularizer=regularizers.l2(1e-4)))\n",
    "\n",
    "gru.add(Dense(1, ))\n",
    "\n",
    "gru.compile(loss=tf.keras.losses.MeanSquaredError(),\n",
    "              optimizer=Adam(learning_rate=4e-4),\n",
    "              metrics=\"mse\")"
   ]
  },
  {
   "cell_type": "code",
   "execution_count": 26,
   "id": "94bca61a",
   "metadata": {},
   "outputs": [
    {
     "name": "stdout",
     "output_type": "stream",
     "text": [
      "Training time: 7.07s\n"
     ]
    }
   ],
   "source": [
    "start = time()\n",
    "callback = tf.keras.callbacks.EarlyStopping(monitor='loss', min_delta=1e-6, patience=15)\n",
    "\n",
    "gru.fit(xtrain_, ytrain, batch_size=24, epochs=500, callbacks=[callback],\n",
    "        verbose=0, validation_split=0.15, )\n",
    "\n",
    "end = time()\n",
    "\n",
    "print(f\"Training time: {round(end - start, 2)}s\")"
   ]
  },
  {
   "cell_type": "code",
   "execution_count": 27,
   "id": "0b18cb07",
   "metadata": {},
   "outputs": [
    {
     "name": "stdout",
     "output_type": "stream",
     "text": [
      "GRU Forecasts: [10. 19. 16. 14. 36. 26. 12. 18. 30. 18.]\n",
      "\n",
      "Actual: [12. 23. 17. 10. 36. 27. 18. 17. 27. 20.]\n"
     ]
    }
   ],
   "source": [
    "gru_forecasts = gru.predict(xtest.reshape(xtest.shape[0], 1, xtest.shape[1]))\n",
    "gru_forecasts = np.round(gru_forecasts.reshape(-1, ))\n",
    "\n",
    "print(f\"GRU Forecasts: {gru_forecasts}\")\n",
    "print()\n",
    "print(f\"Actual: {ytest.reshape(-1, )}\")"
   ]
  },
  {
   "cell_type": "code",
   "execution_count": 28,
   "id": "2c8c03b6",
   "metadata": {},
   "outputs": [
    {
     "data": {
      "image/png": "[encoded data removed]",
      "text/plain": [
       "<Figure size 648x360 with 1 Axes>"
      ]
     },
     "metadata": {
      "needs_background": "light"
     },
     "output_type": "display_data"
    }
   ],
   "source": [
    "gru_rmse = np.sqrt(mse(gru_forecasts, ytest.reshape(-1, )))\n",
    "\n",
    "plt.figure(figsize=(9, 5))\n",
    "plt.plot(np.arange(len(ytest)), gru_forecasts, color=\"black\", linestyle=\"--\", marker=\"o\", label=\"GRU\")\n",
    "plt.plot(np.arange(len(ytest)), forecasts, color=\"red\", marker=\"o\", label=\"FF\")\n",
    "plt.plot(np.arange(len(ytest)), ytest.reshape(-1, ), color=\"blue\", marker=\"x\", label=\"Actual\")\n",
    "plt.xlabel(\"Game\", fontsize=15)\n",
    "plt.ylabel(label1[0], fontsize=15)\n",
    "plt.title(f\"Name: {name}. RMSE: {round(gru_rmse, 2)}\")\n",
    "plt.grid()\n",
    "plt.legend()\n",
    "plt.show()"
   ]
  },
  {
   "cell_type": "code",
   "execution_count": 29,
   "id": "4b494b56",
   "metadata": {},
   "outputs": [],
   "source": [
    "import xgboost as xgb\n",
    "\n",
    "# xgb_model = xgb.XGBRegressor(objective=\"reg:linear\", random_state=41)\n",
    "\n",
    "# start = time()\n",
    "# xgb_model.fit(xtrain, ytrain)\n",
    "# end = time()\n",
    "# print(f\"XGBoost training time: {round(end-start, 2)}s\")"
   ]
  },
  {
   "cell_type": "code",
   "execution_count": 34,
   "id": "16b00df1",
   "metadata": {},
   "outputs": [
    {
     "name": "stdout",
     "output_type": "stream",
     "text": [
      "[08:41:20] WARNING: /Users/runner/work/xgboost/xgboost/python-package/build/temp.macosx-10.9-x86_64-cpython-38/xgboost/src/objective/regression_obj.cu:213: reg:linear is now deprecated in favor of reg:squarederror.\n",
      "[0]\tevals-rmse:11.73788\n",
      "[1]\tevals-rmse:8.92565\n",
      "[2]\tevals-rmse:7.37446\n",
      "[3]\tevals-rmse:6.09966\n",
      "[4]\tevals-rmse:5.27122\n",
      "[5]\tevals-rmse:4.76024\n",
      "[6]\tevals-rmse:4.58725\n",
      "[7]\tevals-rmse:4.42967\n",
      "[8]\tevals-rmse:4.37923\n",
      "[9]\tevals-rmse:4.24815\n",
      "[10]\tevals-rmse:4.28133\n",
      "[11]\tevals-rmse:4.24785\n",
      "[12]\tevals-rmse:4.32545\n",
      "[13]\tevals-rmse:4.34538\n",
      "[14]\tevals-rmse:4.36183\n",
      "[15]\tevals-rmse:4.29357\n",
      "[16]\tevals-rmse:4.30652\n",
      "[17]\tevals-rmse:4.31718\n",
      "[18]\tevals-rmse:4.35934\n",
      "[19]\tevals-rmse:4.38863\n",
      "[20]\tevals-rmse:4.40066\n",
      "[21]\tevals-rmse:4.38932\n",
      "[22]\tevals-rmse:4.41361\n",
      "[23]\tevals-rmse:4.43240\n",
      "[24]\tevals-rmse:4.41738\n",
      "[25]\tevals-rmse:4.42230\n",
      "[26]\tevals-rmse:4.42616\n",
      "[27]\tevals-rmse:4.43116\n",
      "[28]\tevals-rmse:4.44045\n",
      "[29]\tevals-rmse:4.44743\n",
      "[30]\tevals-rmse:4.44664\n",
      "[31]\tevals-rmse:4.45039\n",
      "[32]\tevals-rmse:4.45954\n",
      "[33]\tevals-rmse:4.46083\n",
      "[34]\tevals-rmse:4.46185\n",
      "[35]\tevals-rmse:4.46307\n",
      "[36]\tevals-rmse:4.46231\n",
      "[37]\tevals-rmse:4.46089\n",
      "[38]\tevals-rmse:4.46108\n",
      "[39]\tevals-rmse:4.46544\n",
      "[40]\tevals-rmse:4.46681\n",
      "XGBoost training time: 0.07s\n"
     ]
    },
    {
     "name": "stderr",
     "output_type": "stream",
     "text": [
      "/Users/I541997/opt/anaconda3/lib/python3.8/site-packages/xgboost/core.py:617: FutureWarning: Pass `evals` as keyword args.\n",
      "  warnings.warn(msg, FutureWarning)\n"
     ]
    }
   ],
   "source": [
    "training_data = xgb.DMatrix(xtrain[:-10], label=ytrain[:-10])\n",
    "val_data = xgb.DMatrix(xtrain[-10:], label=ytrain[-10:])\n",
    "\n",
    "evallist = [(val_data, 'evals')]\n",
    "param = {\"max_depth\": 5, 'eta': 0.32, 'objective': \"reg:linear\",\n",
    "         \"alpha\": 1e-3, \"lambda\": 1e-3,\n",
    "         \"nthread\": 3, \"eval_metric\": \"rmse\"}\n",
    "start = time()\n",
    "xgb_model = xgb.train(param, training_data, 41, evallist)\n",
    "end = time()\n",
    "print(f\"XGBoost training time: {round(end-start, 2)}s\")"
   ]
  },
  {
   "cell_type": "code",
   "execution_count": 35,
   "id": "7443b22e",
   "metadata": {},
   "outputs": [],
   "source": [
    "xgb_forecasts = np.round(xgb_model.predict(xgb.DMatrix(xtest)))"
   ]
  },
  {
   "cell_type": "code",
   "execution_count": 36,
   "id": "6ede946a",
   "metadata": {},
   "outputs": [],
   "source": [
    "# xgb_forecasts = np.round(xgb_model.predict(xtest))"
   ]
  },
  {
   "cell_type": "code",
   "execution_count": 39,
   "id": "7bd69eea",
   "metadata": {},
   "outputs": [
    {
     "data": {
      "image/png": "[encoded data removed]",
      "text/plain": [
       "<Figure size 648x360 with 1 Axes>"
      ]
     },
     "metadata": {
      "needs_background": "light"
     },
     "output_type": "display_data"
    }
   ],
   "source": [
    "gru_rmse = np.sqrt(mse(xgb_forecasts, ytest.reshape(-1, )))\n",
    "\n",
    "plt.figure(figsize=(9, 5))\n",
    "plt.plot(np.arange(len(ytest)), xgb_forecasts, color=\"red\", linestyle=\"--\", marker=\"o\", label=\"XGBoost\")\n",
    "# plt.plot(np.arange(len(ytest)), gru_forecasts, color=\"black\", linestyle=\"--\", marker=\"o\", label=\"GRU\")\n",
    "# plt.plot(np.arange(len(ytest)), forecasts, color=\"red\", marker=\"o\", label=\"FF\")\n",
    "plt.plot(np.arange(len(ytest)), ytest.reshape(-1, ), color=\"blue\", marker=\"x\", label=\"Actual\")\n",
    "plt.xlabel(\"Game\", fontsize=15)\n",
    "plt.ylabel(label1[0], fontsize=15)\n",
    "plt.title(f\"Name: {name}. RMSE: {round(gru_rmse, 2)}\")\n",
    "plt.grid()\n",
    "plt.legend()\n",
    "plt.show()"
   ]
  },
  {
   "cell_type": "code",
   "execution_count": null,
   "id": "13e39ea0",
   "metadata": {},
   "outputs": [],
   "source": []
  }
 ],
 "metadata": {
  "kernelspec": {
   "display_name": "Python 3 (ipykernel)",
   "language": "python",
   "name": "python3"
  },
  "language_info": {
   "codemirror_mode": {
    "name": "ipython",
    "version": 3
   },
   "file_extension": ".py",
   "mimetype": "text/x-python",
   "name": "python",
   "nbconvert_exporter": "python",
   "pygments_lexer": "ipython3",
   "version": "3.8.5"
  },
  "toc": {
   "base_numbering": 1,
   "nav_menu": {},
   "number_sections": true,
   "sideBar": true,
   "skip_h1_title": false,
   "title_cell": "Table of Contents",
   "title_sidebar": "Contents",
   "toc_cell": false,
   "toc_position": {},
   "toc_section_display": true,
   "toc_window_display": false
  }
 },
 "nbformat": 4,
 "nbformat_minor": 5
}
