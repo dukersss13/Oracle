{
 "cells": [
  {
   "cell_type": "code",
   "execution_count": 1,
   "id": "c530c075",
   "metadata": {},
   "outputs": [],
   "source": [
    "import numpy as np\n",
    "import pandas as pd\n",
    "\n",
    "import seaborn as sns\n",
    "import tensorflow as tf\n",
    "\n",
    "from pmdarima.arima import auto_arima, ADFTest\n",
    "\n",
    "from nba_api.stats.endpoints import (playergamelog, leagueseasonmatchups, boxscoretraditionalv2,\n",
    "                                     commonteamroster, teamgamelogs, leaguedashptteamdefend,\n",
    "                                     teamestimatedmetrics)\n",
    "from nba_api.stats.static import teams, players\n",
    "from nba_api.stats.library.parameters import SeasonAll\n",
    "\n",
    "import matplotlib.pyplot as plt"
   ]
  },
  {
   "cell_type": "code",
   "execution_count": 2,
   "id": "6bb1b7ae",
   "metadata": {},
   "outputs": [],
   "source": [
    "def fetch_players_id(players_full_name: str) -> int:\n",
    "    \"\"\"\n",
    "    Get players ID given full name\n",
    "\n",
    "    :param: players_full_name: player's full name\n",
    "    :return: player's ID\n",
    "    \"\"\"\n",
    "    try:\n",
    "        players_id = players.find_players_by_full_name(players_full_name)[0][\"id\"]\n",
    "    except IndexError:\n",
    "        print(f\"WARNING: {players_full_name} does not have a player ID!\")\n",
    "        players_id = None\n",
    "\n",
    "    return players_id\n",
    "\n",
    "def fetch_players_game_logs_df(players_id: str, season: str) -> pd.DataFrame:\n",
    "    \"\"\"\n",
    "    Access the PlayerGameLog module to fetch the game logs df of given player\n",
    "\n",
    "    :param players_id: player ID\n",
    "    :return: the given player's game logs in df format\n",
    "    \"\"\"\n",
    "    players_game_log = playergamelog.PlayerGameLog(player_id=players_id, season=season,\n",
    "                                                   season_type_all_star=\"Regular Season\")\n",
    "    players_game_logs_df = players_game_log.get_data_frames()[0]\n",
    "    try:\n",
    "        players_game_logs_df =  players_game_logs_df.iloc[:num_games+1, :]\n",
    "    except:\n",
    "        players_game_logs_df = players_game_logs_df\n",
    "\n",
    "    return players_game_logs_df\n",
    "\n",
    "\n",
    "class WindowGenerator:\n",
    "    def __init__(self, input_width, label_width, shift, label_columns):\n",
    "        # Work out the label column indices.\n",
    "        self.label_columns = label_columns\n",
    "\n",
    "        # Work out the window parameters.\n",
    "        self.input_width = input_width\n",
    "        self.label_width = label_width\n",
    "        self.window_size = input_width + shift\n",
    "        self.shift = shift\n",
    "    \n",
    "    def split_window(self, df):\n",
    "        x = []\n",
    "        y = []\n",
    "        n = len(df)\n",
    "        \n",
    "        # labels = df[self.label_columns].values\n",
    "        for i in range(n - self.window_size + 1):\n",
    "            y_ = df[i]\n",
    "            y.append(y_)\n",
    "            \n",
    "        for i in range(n - self.window_size + 1):\n",
    "            i += 1\n",
    "            inputs = df.iloc[i:self.input_width+i]\n",
    "            x.append(inputs.values)\n",
    "        \n",
    "        assert len(x) == len(y)\n",
    "\n",
    "        return np.asarray(x), np.asarray(y)"
   ]
  },
  {
   "cell_type": "code",
   "execution_count": 3,
   "id": "537750b4",
   "metadata": {},
   "outputs": [],
   "source": [
    "# offset = 5\n",
    "# w = WindowGenerator(input_width=offset, label_width=1, shift=1,\n",
    "#                     label_columns=stat)"
   ]
  },
  {
   "cell_type": "code",
   "execution_count": 4,
   "id": "fb078f18",
   "metadata": {},
   "outputs": [],
   "source": [
    "# X, Y = w.split_window(ts_data)\n",
    "# n = len(ts_data)\n",
    "\n",
    "# games_to_forecast = 8\n",
    "\n",
    "# x_train, y_train = X[:-games_to_forecast], Y[:-games_to_forecast]\n",
    "# x_test, y_test = X[-games_to_forecast:], Y[-games_to_forecast:]"
   ]
  },
  {
   "cell_type": "code",
   "execution_count": 5,
   "id": "f957e4fe",
   "metadata": {},
   "outputs": [],
   "source": [
    "from tensorflow.keras import Sequential, regularizers\n",
    "from tensorflow.keras.layers import Dense, Dropout\n",
    "from tensorflow.keras.optimizers import Adam"
   ]
  },
  {
   "cell_type": "code",
   "execution_count": 6,
   "id": "2c3b7702",
   "metadata": {},
   "outputs": [],
   "source": [
    "# model = Sequential()\n",
    "# model.add(Dense(300, activation=\"relu\", input_shape=(offset, )))\n",
    "# model.add(Dense(300, activation=\"relu\", batch_size=13)) # Nash\n",
    "# model.add(Dropout(0.15)) \n",
    "# model.add(Dense(300, activation=\"relu\", batch_size=32, kernel_regularizer=regularizers.l2(1e-4))) # Shaq\n",
    "# model.add(Dense(300, activation=\"relu\", batch_size=24, kernel_regularizer=regularizers.l2(1e-4))) # Kobe\n",
    "# model.add(Dropout(0.2))\n",
    "# model.add(Dense(300, activation=\"relu\", batch_size=41, kernel_regularizer=regularizers.l2(1e-4))) # Dirk\n",
    "# model.add(Dense(1, activation=\"relu\"))\n",
    "\n",
    "# model.compile(loss=\"MSE\", optimizer=\"Adam\", metrics=\"mean_squared_error\")"
   ]
  },
  {
   "cell_type": "code",
   "execution_count": 7,
   "id": "cbd23df0",
   "metadata": {},
   "outputs": [],
   "source": [
    "# model.fit(x_train, y_train, batch_size=16, epochs=100, \n",
    "#           verbose=0, validation_split=0.1,)"
   ]
  },
  {
   "cell_type": "code",
   "execution_count": 8,
   "id": "1267a05d",
   "metadata": {},
   "outputs": [],
   "source": [
    "# y_pred = model.predict(x_test)"
   ]
  },
  {
   "cell_type": "code",
   "execution_count": 9,
   "id": "79f2d734",
   "metadata": {},
   "outputs": [],
   "source": [
    "# x = np.arange(len(y_test))\n",
    "\n",
    "# plt.figure(figsize=(8, 5))\n",
    "# plt.plot(x, y_pred, color=\"red\", marker=\"x\", label=\"Pred\")\n",
    "# plt.scatter(x, y_test, color=\"blue\", marker=\"o\", label=\"Actual\")\n",
    "# plt.legend()\n",
    "# plt.show()"
   ]
  },
  {
   "cell_type": "code",
   "execution_count": 10,
   "id": "42183a52",
   "metadata": {},
   "outputs": [],
   "source": [
    "metrics_col = [\"TEAM_NAME\", \"TEAM_ID\", \"E_PACE\", \"E_DEF_RATING\"]\n",
    "\n",
    "metrics_23 = teamestimatedmetrics.TeamEstimatedMetrics(season=\"2022-23\").get_data_frames()[0][metrics_col]\n",
    "metrics_22 = teamestimatedmetrics.TeamEstimatedMetrics(season=\"2021-22\").get_data_frames()[0][metrics_col]\n",
    "metrics_21 = teamestimatedmetrics.TeamEstimatedMetrics(season=\"2020-21\").get_data_frames()[0][metrics_col]"
   ]
  },
  {
   "cell_type": "code",
   "execution_count": 11,
   "id": "5dae3981",
   "metadata": {},
   "outputs": [],
   "source": [
    "nba_teams = teams.get_teams()\n",
    "static_team_info = pd.DataFrame(nba_teams)\n",
    "all_teams_id = static_team_info[\"id\"].values"
   ]
  },
  {
   "cell_type": "code",
   "execution_count": 12,
   "id": "57426eba",
   "metadata": {},
   "outputs": [],
   "source": [
    "id_abb_lut = dict(zip(static_team_info[\"abbreviation\"], static_team_info[\"id\"]))"
   ]
  },
  {
   "cell_type": "code",
   "execution_count": 13,
   "id": "aed9cebd",
   "metadata": {},
   "outputs": [],
   "source": [
    "# atl = teamgamelogs.TeamGameLogs(team_id_nullable=1610612737, season_nullable=\"2022-23\").get_data_frames()[0]"
   ]
  },
  {
   "cell_type": "code",
   "execution_count": 75,
   "id": "738e7901",
   "metadata": {},
   "outputs": [],
   "source": [
    "# df = leaguedashptteamdefend.LeagueDashPtTeamDefend(\n",
    "#                                               defense_category=\"3 Pointers\",\n",
    "#                                               per_mode_simple=\"PerGame\",\n",
    "#                                               season=\"2022-23\",\n",
    "#                                               season_type_all_star=\"Regular Season\",\n",
    "#                                               season_segment_nullable=\"Pre All-Star\"\n",
    "#                                               ).get_data_frames()[0]"
   ]
  },
  {
   "cell_type": "code",
   "execution_count": 15,
   "id": "46c1254f",
   "metadata": {},
   "outputs": [],
   "source": [
    "def get_opp_id(matchup: str):\n",
    "    matchup_split = matchup.split(\" \")\n",
    "    opp_abb = matchup_split[2]\n",
    "    team_id = static_team_info[static_team_info[\"abbreviation\"]==opp_abb][\"id\"].values[0]\n",
    "    \n",
    "    return team_id"
   ]
  },
  {
   "cell_type": "code",
   "execution_count": 38,
   "id": "5ae71940",
   "metadata": {},
   "outputs": [],
   "source": [
    "def add_rest_days(players_game_logs_df: pd.DataFrame) -> pd.DataFrame:\n",
    "    \"\"\"\n",
    "    Add rest days column\n",
    "\n",
    "    :param players_game_logs_df: player's game logs df\n",
    "    :return: player's game logs df w/ rest days\n",
    "    \"\"\"\n",
    "    players_game_logs_df[\"GAME_DATE\"] = players_game_logs_df[\"GAME_DATE\"].apply(lambda x: x.split(\" \"))\n",
    "    players_game_logs_df[\"GAME_DATE\"] = players_game_logs_df[\"GAME_DATE\"].apply(convert_to_timestamp)\n",
    "    players_game_logs_df = players_game_logs_df.sort_values(by=[\"GAME_DATE\"], ascending=False)\n",
    "    players_game_logs_df[\"REST_DAYS\"] = players_game_logs_df[\"GAME_DATE\"].diff(periods=-1)\n",
    "    players_game_logs_df = players_game_logs_df.iloc[:-1, :]\n",
    "    players_game_logs_df.loc[:, \"REST_DAYS\"] = players_game_logs_df[\"REST_DAYS\"].dt.days\n",
    "\n",
    "    return players_game_logs_df\n",
    "\n",
    "def add_home_away_columns(players_game_logs_df: pd.DataFrame) -> pd.DataFrame:\n",
    "    \"\"\"\n",
    "    Add one_hot encoding home or away bool columns\n",
    "\n",
    "    :param players_game_logs_df: player's game logs df\n",
    "    :return: player's game logs df w/ home & away columns\n",
    "    \"\"\"\n",
    "    players_game_logs_df.loc[:, (\"HOME\", \"AWAY\")] = tf.one_hot(players_game_logs_df[\"MATCHUP\"].\\\n",
    "                                                    apply(detect_home_or_away_games), 2)\n",
    "\n",
    "    return players_game_logs_df\n",
    "\n",
    "def detect_home_or_away_games(game: str):\n",
    "    \"\"\"\n",
    "    Detect if a game is on home court or away\n",
    "    \"\"\"\n",
    "    return 1 if \"@\" in game else 0\n",
    "\n",
    "def convert_to_timestamp(date_string: str) -> pd.Timestamp:\n",
    "    \"\"\"\n",
    "    Convert a date in string format to pd.Timestamp format\n",
    "    \"\"\"\n",
    "    months_dict = init_months_dict()\n",
    "    date = pd.Timestamp(f\"{date_string[2]}-{months_dict[date_string[0]]}-{date_string[1][:-1]}\")\n",
    "\n",
    "    return date\n",
    "\n",
    "def init_months_dict() -> dict:\n",
    "    \"\"\"\n",
    "    Create months dictionary\n",
    "    \"\"\"\n",
    "    months = [\"JAN\", \"FEB\", \"MAR\", \"APR\", \"MAY\", \"JUN\", \"JUL\", \"AUG\", \"SEP\", \"OCT\", \"NOV\", \"DEC\"]\n",
    "    months_dict = dict(zip(months, range(1, 13)))\n",
    "\n",
    "    return months_dict"
   ]
  },
  {
   "cell_type": "code",
   "execution_count": 103,
   "id": "d25e582b",
   "metadata": {},
   "outputs": [],
   "source": [
    "def merge_defensive_stats(season: str, game_log: pd.DataFrame, defensive_stats: list) -> pd.DataFrame:\n",
    "    \"\"\"\n",
    "    \"\"\"\n",
    "    all_star_date = f\"20{season}-02-14\"\n",
    "    \n",
    "    pre_asb_overall = game_log[game_log[\"GAME_DATE\"] < all_star_date].merge(defensive_stats[0], on=\"TEAM_ID\")\n",
    "    pre_asb_3pt = pre_asb_overall[pre_asb_overall[\"GAME_DATE\"] < all_star_date].merge(defensive_stats[1],\n",
    "                                                                                      on=\"TEAM_ID\")\n",
    "    \n",
    "    post_asb_overall = game_log[game_log[\"GAME_DATE\"] >= all_star_date].merge(defensive_stats[2], on=\"TEAM_ID\")\n",
    "    post_asb_3pt = post_asb_overall[post_asb_overall[\"GAME_DATE\"] >= all_star_date].merge(defensive_stats[3],\n",
    "                                                                                          on=\"TEAM_ID\")\n",
    "    \n",
    "    return pd.concat([pre_asb_3pt, post_asb_3pt]).merge(defensive_stats[4], on=\"TEAM_ID\")"
   ]
  },
  {
   "cell_type": "markdown",
   "id": "2f161f43",
   "metadata": {},
   "source": [
    "### 2023 Season"
   ]
  },
  {
   "cell_type": "code",
   "execution_count": 104,
   "id": "5df09689",
   "metadata": {},
   "outputs": [],
   "source": [
    "player = fetch_players_id(\"Devin Booker\")\n",
    "log_23 = fetch_players_game_logs_df(player, \"2022-23\")\n",
    "log_23[\"TEAM_ID\"] = log_23[\"MATCHUP\"].apply(get_opp_id)\n",
    "log_23 = add_rest_days(add_home_away_columns(log_23))\n",
    "\n",
    "pre_teams_d_23 = pd.read_csv(\"defense_pre_ASB_23.csv\", index_col=0)\n",
    "post_teams_d_23 = pd.read_csv(\"defense_post_ASB_23.csv\", index_col=0)\n",
    "\n",
    "pre_teams_3pt_23 = pd.read_csv(\"pre_asb_3pt_23.csv\", index_col=0)\n",
    "post_teams_3pt_23 = pd.read_csv(\"post_asb_3pt_23.csv\", index_col=0)\n",
    "\n",
    "player_23 = merge_defensive_stats(season=\"23\", game_log=log_23,\n",
    "                                  defensive_stats=[pre_teams_d_23, post_teams_d_23,\n",
    "                                                   pre_teams_3pt_23, post_teams_3pt_23,\n",
    "                                                   metrics_23])"
   ]
  },
  {
   "cell_type": "markdown",
   "id": "95316969",
   "metadata": {},
   "source": [
    "### 2022 Season"
   ]
  },
  {
   "cell_type": "code",
   "execution_count": 90,
   "id": "ec53b7f4",
   "metadata": {},
   "outputs": [],
   "source": [
    "log_22 = fetch_players_game_logs_df(player, \"2021-22\")\n",
    "log_22[\"TEAM_ID\"] = log_22[\"MATCHUP\"].apply(get_opp_id)\n",
    "log_22 = add_rest_days(add_home_away_columns(log_22))\n",
    "all_star_22 = \"2022-02-14\"\n",
    "\n",
    "pre_teams_d_22 = pd.read_csv(\"defense_pre_ASB_22.csv\", index_col=0)\n",
    "post_teams_d_22 = pd.read_csv(\"defense_post_ASB_22.csv\", index_col=0)\n",
    "\n",
    "player_22 = merge_defensive_stats(season=\"22\", game_log=log_22,\n",
    "                                  defensive_stats=[pre_teams_d_22, post_teams_d_22, metrics_22])"
   ]
  },
  {
   "cell_type": "markdown",
   "id": "21e71874",
   "metadata": {},
   "source": [
    "### 2021 Season"
   ]
  },
  {
   "cell_type": "code",
   "execution_count": 91,
   "id": "91cd1346",
   "metadata": {},
   "outputs": [],
   "source": [
    "log_21 = fetch_players_game_logs_df(player, \"2020-21\")\n",
    "log_21[\"TEAM_ID\"] = log_21[\"MATCHUP\"].apply(get_opp_id)\n",
    "log_21 = add_rest_days(add_home_away_columns(log_21))\n",
    "all_star_21 = \"2021-02-14\"\n",
    "\n",
    "pre_teams_d_21 = pd.read_csv(\"defense_pre_ASB_21.csv\", index_col=0)\n",
    "post_teams_d_21 = pd.read_csv(\"defense_post_ASB_21.csv\", index_col=0)\n",
    "\n",
    "player_21 = merge_defensive_stats(season=\"21\", game_log=log_21,\n",
    "                                  defensive_stats=[pre_teams_d_21, post_teams_d_21, metrics_21])"
   ]
  },
  {
   "cell_type": "code",
   "execution_count": 92,
   "id": "f2279e13",
   "metadata": {},
   "outputs": [],
   "source": [
    "complete_log = pd.concat([player_21, player_22, player_23]).sort_values(by=[\"GAME_DATE\"], ascending=False)"
   ]
  },
  {
   "cell_type": "code",
   "execution_count": 93,
   "id": "78538fb6",
   "metadata": {},
   "outputs": [],
   "source": [
    "predictors = [\"MIN\", \"FGA\", \"HOME\", \"AWAY\", \"REST_DAYS\",\n",
    "              \"D_FGM\", \"D_FGA\", \"D_FG_PCT\", \"PCT_PLUSMINUS\", \"E_PACE\", \"E_DEF_RATING\"]\n",
    "label = [\"FG_PCT\"]"
   ]
  },
  {
   "cell_type": "code",
   "execution_count": 94,
   "id": "cff353d2",
   "metadata": {},
   "outputs": [],
   "source": [
    "game_to_predict = 10\n",
    "\n",
    "X, y = complete_log[predictors].astype(np.float32), complete_log[label].astype(np.float32)\n",
    "xtrain, ytrain = X.iloc[game_to_predict+1:, :].values, y.iloc[game_to_predict+1:, :].values\n",
    "xtest, ytest = X.iloc[:game_to_predict, :].values, y.iloc[:game_to_predict, :].values"
   ]
  },
  {
   "cell_type": "code",
   "execution_count": 95,
   "id": "b8d07630",
   "metadata": {},
   "outputs": [],
   "source": [
    "model = Sequential()\n",
    "model.add(Dense(77, activation=\"tanh\", input_shape=(len(predictors), )))\n",
    "model.add(Dense(100, activation=\"tanh\", batch_size=24, kernel_regularizer=regularizers.l1(1e-3)))\n",
    "model.add(Dropout(0.1)) \n",
    "model.add(Dense(100, activation=\"tanh\", batch_size=24, kernel_regularizer=regularizers.l2(1e-3)))\n",
    "model.add(Dropout(0.1))\n",
    "model.add(Dense(1, activation=\"tanh\"))\n",
    "\n",
    "model.compile(loss=tf.keras.losses.MeanSquaredError(),\n",
    "              optimizer=Adam(learning_rate=1e-4),\n",
    "              metrics=\"mean_squared_error\")"
   ]
  },
  {
   "cell_type": "code",
   "execution_count": 96,
   "id": "a41a6492",
   "metadata": {},
   "outputs": [
    {
     "data": {
      "text/plain": [
       "<tensorflow.python.keras.callbacks.History at 0x7f8169ba0730>"
      ]
     },
     "execution_count": 96,
     "metadata": {},
     "output_type": "execute_result"
    }
   ],
   "source": [
    "model.fit(xtrain, ytrain, batch_size=24, epochs=200, verbose=0, validation_split=0.15, )"
   ]
  },
  {
   "cell_type": "code",
   "execution_count": 97,
   "id": "7fb57d3b",
   "metadata": {},
   "outputs": [
    {
     "name": "stdout",
     "output_type": "stream",
     "text": [
      "Forecasts: [0.432 0.5   0.417 0.491 0.46  0.499 0.483 0.465 0.429 0.51 ]\n",
      "\n",
      "Actual: [0.25  0.429 0.571 0.45  0.444 0.368 0.5   0.625 0.688 0.643]\n"
     ]
    }
   ],
   "source": [
    "forecasts = []\n",
    "\n",
    "for x in xtest:\n",
    "    ypred = model.predict(x.reshape(1, len(predictors)))\n",
    "    forecasts.append(round(ypred[0][0], 3))\n",
    "\n",
    "forecasts = np.asarray(forecasts)\n",
    "print(f\"Forecasts: {forecasts}\")\n",
    "print()\n",
    "print(f\"Actual: {ytest.reshape(-1, )}\")"
   ]
  },
  {
   "cell_type": "code",
   "execution_count": 98,
   "id": "62e1756e",
   "metadata": {},
   "outputs": [
    {
     "data": {
      "image/png": "[encoded data removed]",
      "text/plain": [
       "<Figure size 648x360 with 1 Axes>"
      ]
     },
     "metadata": {
      "needs_background": "light"
     },
     "output_type": "display_data"
    }
   ],
   "source": [
    "mse = round(np.mean((forecasts - ytest) ** 2), 4)\n",
    "\n",
    "plt.figure(figsize=(9, 5))\n",
    "plt.plot(np.arange(len(ytest)), forecasts, color=\"red\", marker=\"o\", label=\"Forecast\")\n",
    "plt.scatter(np.arange(len(ytest)), ytest.reshape(-1, ), color=\"blue\", marker=\"x\", label=\"Actual\")\n",
    "plt.xlabel(\"Game\", fontsize=15)\n",
    "plt.ylabel(\"FG%\", fontsize=15)\n",
    "plt.title(f\"MSE: {mse}\")\n",
    "plt.legend()\n",
    "plt.show()"
   ]
  },
  {
   "cell_type": "code",
   "execution_count": null,
   "id": "dde0c3a9",
   "metadata": {},
   "outputs": [],
   "source": []
  }
 ],
 "metadata": {
  "kernelspec": {
   "display_name": "Python 3 (ipykernel)",
   "language": "python",
   "name": "python3"
  },
  "language_info": {
   "codemirror_mode": {
    "name": "ipython",
    "version": 3
   },
   "file_extension": ".py",
   "mimetype": "text/x-python",
   "name": "python",
   "nbconvert_exporter": "python",
   "pygments_lexer": "ipython3",
   "version": "3.8.5"
  },
  "toc": {
   "base_numbering": 1,
   "nav_menu": {},
   "number_sections": true,
   "sideBar": true,
   "skip_h1_title": false,
   "title_cell": "Table of Contents",
   "title_sidebar": "Contents",
   "toc_cell": false,
   "toc_position": {},
   "toc_section_display": true,
   "toc_window_display": false
  }
 },
 "nbformat": 4,
 "nbformat_minor": 5
}
